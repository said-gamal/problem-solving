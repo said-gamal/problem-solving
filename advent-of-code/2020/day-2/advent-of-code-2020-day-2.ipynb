{
    "cells": [
        {
            "cell_type": "markdown",
            "source": [
                "# Part 1"
            ],
            "metadata": {}
        },
        {
            "cell_type": "code",
            "execution_count": 1,
            "source": [
                "class PasswordPolicy:\r\n",
                "    def __init__(self, minimum, maximum, char, password):\r\n",
                "        self.minimum = minimum\r\n",
                "        self.maximum = maximum\r\n",
                "        self.char = char\r\n",
                "        self.password = password"
            ],
            "outputs": [],
            "metadata": {}
        },
        {
            "cell_type": "code",
            "execution_count": 2,
            "source": [
                "# read the input and extract the data from the lines\r\n",
                "policies = []\r\n",
                "with open('day2.txt') as file:\r\n",
                "    for line in file.readlines():\r\n",
                "        # extract the data exapmle: 2-8 h: hhhhvhhh\r\n",
                "        # data min = 2, max = 8, char = 'h', password = 'hhhhvhhh'\r\n",
                "        min_max, char, password = line.strip('\\n').split()\r\n",
                "        min_max = [int(i) for i in min_max.split('-')]\r\n",
                "        # save to passwords list\r\n",
                "        policies.append(PasswordPolicy(min_max[0], min_max[1], char[0], password))"
            ],
            "outputs": [],
            "metadata": {}
        },
        {
            "cell_type": "code",
            "execution_count": 3,
            "source": [
                "n_valid_passwords = 0\r\n",
                "# complexity O(n)\r\n",
                "for policy in policies:\r\n",
                "    # check if the password has a valid policy\r\n",
                "    if policy.password.count(policy.char) in range(policy.minimum, policy.maximum+1):\r\n",
                "        n_valid_passwords += 1\r\n",
                "print(n_valid_passwords)"
            ],
            "outputs": [
                {
                    "output_type": "stream",
                    "name": "stdout",
                    "text": [
                        "614\n"
                    ]
                }
            ],
            "metadata": {}
        },
        {
            "cell_type": "markdown",
            "source": [
                "# Part 2"
            ],
            "metadata": {}
        },
        {
            "cell_type": "code",
            "execution_count": 4,
            "source": [
                "n_valid_passwords = 0\r\n",
                "# complexity O(n)\r\n",
                "for policy in policies:\r\n",
                "    # check if the password has a valid policy\r\n",
                "    chars_to_check = [policy.password[policy.minimum-1], policy.password[policy.maximum-1]]\r\n",
                "    if chars_to_check[0] == chars_to_check[1]:\r\n",
                "        continue\r\n",
                "    elif policy.char in chars_to_check:\r\n",
                "        n_valid_passwords += 1\r\n",
                "print(n_valid_passwords)"
            ],
            "outputs": [
                {
                    "output_type": "stream",
                    "name": "stdout",
                    "text": [
                        "354\n"
                    ]
                }
            ],
            "metadata": {}
        }
    ],
    "metadata": {
        "orig_nbformat": 4,
        "language_info": {
            "name": "python"
        }
    },
    "nbformat": 4,
    "nbformat_minor": 2
}