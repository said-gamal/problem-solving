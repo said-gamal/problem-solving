{
    "cells": [
        {
            "cell_type": "markdown",
            "source": [
                "# Part 1"
            ],
            "metadata": {}
        },
        {
            "cell_type": "code",
            "execution_count": 1,
            "source": [
                "# initialize a list to store all expenses from input file\r\n",
                "expenses = []\r\n",
                "# read the input and store it\r\n",
                "with open('day1.txt') as file:\r\n",
                "    for line in file.readlines():\r\n",
                "        expenses.append(int(line))"
            ],
            "outputs": [],
            "metadata": {}
        },
        {
            "cell_type": "code",
            "execution_count": 2,
            "source": [
                "# search for the 2 elements which thier sum = 2020\r\n",
                "# complexity O(n)\r\n",
                "for expense in expenses:\r\n",
                "    other = 2020 - expense\r\n",
                "    if other in expenses:\r\n",
                "        print(expense * other)\r\n",
                "        break"
            ],
            "outputs": [
                {
                    "output_type": "stream",
                    "name": "stdout",
                    "text": [
                        "1003971\n"
                    ]
                }
            ],
            "metadata": {}
        },
        {
            "cell_type": "markdown",
            "source": [
                "# Part 2"
            ],
            "metadata": {}
        },
        {
            "cell_type": "code",
            "execution_count": 3,
            "source": [
                "# sort the list to make the search faster\r\n",
                "expenses = sorted(expenses)\r\n",
                "# search for the 3 elements which thier sum = 2020\r\n",
                "# complexity O(n)\r\n",
                "for i, expense in enumerate(expenses):\r\n",
                "    other_1 = expenses[i+1]\r\n",
                "    other_2 = 2020 - expense - other_1\r\n",
                "    if other_2 in expenses:\r\n",
                "        print(expense * other_1 * other_2)\r\n",
                "        break"
            ],
            "outputs": [
                {
                    "output_type": "stream",
                    "name": "stdout",
                    "text": [
                        "84035952\n"
                    ]
                }
            ],
            "metadata": {}
        }
    ],
    "metadata": {
        "orig_nbformat": 4,
        "language_info": {
            "name": "python"
        }
    },
    "nbformat": 4,
    "nbformat_minor": 2
}